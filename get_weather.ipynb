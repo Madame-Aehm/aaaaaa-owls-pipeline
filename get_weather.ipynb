{
 "cells": [
  {
   "cell_type": "code",
   "execution_count": 5,
   "id": "5b7ae592",
   "metadata": {},
   "outputs": [
    {
     "data": {
      "text/plain": [
       "True"
      ]
     },
     "execution_count": 5,
     "metadata": {},
     "output_type": "execute_result"
    }
   ],
   "source": [
    "from dotenv import load_dotenv\n",
    "import os\n",
    "import requests\n",
    "import datetime as dt\n",
    "import psycopg\n",
    "\n",
    "load_dotenv()"
   ]
  },
  {
   "cell_type": "code",
   "execution_count": 6,
   "id": "33d7163b",
   "metadata": {},
   "outputs": [],
   "source": [
    "def get_weather_for_city(city):\n",
    "    api_key = os.getenv(\"WEATHER_APIKEY\")\n",
    "    endpoint = f\"http://api.openweathermap.org/data/2.5/weather?units=metric&appid={api_key}&q={city}\"\n",
    "    response = requests.get(endpoint)\n",
    "    if response.status_code == 200:\n",
    "        response_json = response.json()\n",
    "        weather_date = response_json[\"dt\"]\n",
    "        weather_city = response_json[\"name\"]\n",
    "        weather_temp = response_json[\"main\"][\"temp\"]\n",
    "        weather_feels = response_json[\"main\"][\"feels_like\"]\n",
    "        weather_description = response_json[\"weather\"][0][\"description\"]\n",
    "        return [weather_date, weather_city, weather_temp, weather_feels, weather_description]"
   ]
  },
  {
   "cell_type": "code",
   "execution_count": 7,
   "id": "93de4025",
   "metadata": {},
   "outputs": [],
   "source": [
    "def formatDate(data):\n",
    "    data[0] = dt.datetime.fromtimestamp(data[0])\n",
    "    return data"
   ]
  },
  {
   "cell_type": "code",
   "execution_count": 8,
   "id": "94fd27b7",
   "metadata": {},
   "outputs": [],
   "source": [
    "def populate_database(data):\n",
    "    dbconn = os.getenv(\"DBCONN\")\n",
    "    conn = psycopg.connect(dbconn)\n",
    "    cur = conn.cursor()\n",
    "    \n",
    "    data = [formatDate(x) for x in data if x != None]\n",
    "    \n",
    "    cur.executemany(\n",
    "        '''\n",
    "            INSERT INTO weather_data(date, city, temp, feels, description)\n",
    "            VALUES (%s, %s, %s, %s, %s);\n",
    "        ''', \n",
    "        data\n",
    "    )\n",
    "    conn.commit()\n",
    "    cur.close()\n",
    "    conn.close()"
   ]
  },
  {
   "cell_type": "code",
   "execution_count": 9,
   "id": "1288d1a2",
   "metadata": {},
   "outputs": [],
   "source": [
    "cities = [\"Berlin\", \"Sydney\", \"Tokyo\"]\n",
    "results = []\n",
    "\n",
    "for city in cities:\n",
    "    results.append(get_weather_for_city(city))\n",
    "\n",
    "populate_database(results)"
   ]
  }
 ],
 "metadata": {
  "kernelspec": {
   "display_name": "CAB_Module3",
   "language": "python",
   "name": "python3"
  },
  "language_info": {
   "codemirror_mode": {
    "name": "ipython",
    "version": 3
   },
   "file_extension": ".py",
   "mimetype": "text/x-python",
   "name": "python",
   "nbconvert_exporter": "python",
   "pygments_lexer": "ipython3",
   "version": "3.12.8"
  }
 },
 "nbformat": 4,
 "nbformat_minor": 5
}
